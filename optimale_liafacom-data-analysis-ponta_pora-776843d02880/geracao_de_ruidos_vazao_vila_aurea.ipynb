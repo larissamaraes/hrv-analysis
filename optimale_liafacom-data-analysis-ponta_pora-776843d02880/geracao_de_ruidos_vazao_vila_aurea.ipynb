{
 "cells": [
  {
   "cell_type": "code",
   "execution_count": 24,
   "metadata": {
    "collapsed": false,
    "deletable": true,
    "editable": true
   },
   "outputs": [],
   "source": [
    "import pandas as pd \n",
    "import numpy as np\n",
    "import math as m\n",
    "import matplotlib.pyplot as plt\n",
    "import matplotlib.patches as mpatches\n",
    "import random\n",
    "import pylab as pl\n",
    "\n",
    "from sklearn.svm import SVC\n",
    "from scipy.stats import randint as sp_randint\n",
    "from sklearn.model_selection import RandomizedSearchCV,StratifiedKFold"
   ]
  },
  {
   "cell_type": "code",
   "execution_count": 25,
   "metadata": {
    "collapsed": false,
    "deletable": true,
    "editable": true,
    "scrolled": true
   },
   "outputs": [],
   "source": [
    "data = pd.read_csv('690a-vazao-vila-aurea-20-04-2016.csv')\n",
    "#data = pd.read_csv('690g-pressao_entrada-vila-aurea-20-04-2016.csv')\n",
    "\n",
    "data_matrix = data.as_matrix()\n",
    "\n",
    "data_hora = data_matrix[340519:,1:2]\n",
    "\n",
    "data_matrix = data_matrix[340519:,2:]   \n",
    "\n",
    "minutos = data_matrix.shape[0]\n",
    "\n",
    "data_matrix = np.array(data_matrix).ravel()\n",
    "\n",
    "#data_matrix = np.nan_to_num(data_matrix) "
   ]
  },
  {
   "cell_type": "code",
   "execution_count": 26,
   "metadata": {
    "collapsed": false,
    "deletable": true,
    "editable": true,
    "scrolled": false
   },
   "outputs": [],
   "source": [
    "# Eliminando os buracos\n",
    "for i in range(minutos):\n",
    "    if (pd.isnull(data_matrix[i])):\n",
    "        j = i\n",
    "        while(pd.isnull(data_matrix[i])):\n",
    "            i += 1      \n",
    "            \n",
    "        data_matrix[j:i] = (data_matrix[j - 1] + data_matrix[i])/2   "
   ]
  },
  {
   "cell_type": "code",
   "execution_count": 27,
   "metadata": {
    "collapsed": false,
    "deletable": true,
    "editable": true
   },
   "outputs": [],
   "source": [
    "# smoothing an array that repreimport pandas as pd \n",
    "import numpy as np\n",
    "import math as m\n",
    "import matplotlib.pyplot as plt\n",
    "import matplotlib.patches as mpatches \n",
    "def hanning(x, window_len):\n",
    "    #x_=np.r_[2*x[0]-x[window_len:1:-1], x, 2*x[-1]-x[-1:-window_len:-1]]\n",
    "    # Extend input data to avoid border issues.\n",
    "    x_ = np.r_[[x[0]]*(window_len-1), x, [x[-1]]*(window_len-1)]\n",
    "    # Hanning window (filter).\n",
    "    f = np.hanning(window_len)\n",
    "    # Apply convolution.\n",
    "    y = np.convolve(x_ , f/f.sum(), mode='same')\n",
    "    # Return data to original size.\n",
    "    return y[window_len-1:-window_len+1]"
   ]
  },
  {
   "cell_type": "code",
   "execution_count": 28,
   "metadata": {
    "collapsed": false,
    "deletable": true,
    "editable": true
   },
   "outputs": [],
   "source": [
    "data_matrix_ruido = hanning(data_matrix, 10) # Dados da vazão suavizados\n",
    "\n",
    "data_matrix_suavizado = np.copy(data_matrix_ruido)"
   ]
  },
  {
   "cell_type": "code",
   "execution_count": 29,
   "metadata": {
    "collapsed": false,
    "deletable": true,
    "editable": true
   },
   "outputs": [
    {
     "name": "stdout",
     "output_type": "stream",
     "text": [
      "(2, 6000)\n"
     ]
    }
   ],
   "source": [
    "# Gerar 200 pontos negativos (sem ruido), 100 para treino e 100 para teste\n",
    "\n",
    "n_pontos_negativos = 200\n",
    "minutos_sem_ruido = 60\n",
    "\n",
    "pontos_negativos = np.empty((n_pontos_negativos, minutos_sem_ruido))\n",
    "\n",
    "for i in range(n_pontos_negativos):\n",
    "    inicio = np.random.randint(0, minutos - minutos_sem_ruido)\n",
    "    pontos_negativos[i,] = data_matrix_ruido[inicio: inicio + minutos_sem_ruido]\n",
    "\n",
    "pontos_negativos = pontos_negativos.reshape(2,-1)\n",
    "\n",
    "print pontos_negativos.shape"
   ]
  },
  {
   "cell_type": "code",
   "execution_count": 30,
   "metadata": {
    "collapsed": false,
    "deletable": true,
    "editable": true
   },
   "outputs": [
    {
     "name": "stdout",
     "output_type": "stream",
     "text": [
      "d = 10.825399\n",
      "(2, 6000)\n"
     ]
    }
   ],
   "source": [
    "# Gerar 200 pontos positivos (com ruido), 100 para treino e 100 para teste \n",
    "\n",
    "n_pontos_positivos = 200  \n",
    "minutos_ruido = 60\n",
    "pontos_positivos = np.empty((n_pontos_positivos, minutos_ruido))\n",
    "\n",
    "d = np.std(data_matrix)                                        # Desvio padrão de todo o data_matrix                          \n",
    "print \"d = %f\"%(d)\n",
    " \n",
    "inicio_ruido = np.random.randint(0, minutos, n_pontos_positivos) # Gera n índices para iniciar o ruido\n",
    "\n",
    "duracao = np.random.normal(120, 40, n_pontos_positivos).round().astype(np.int)  # Gera n durações de ruidos\n",
    "\n",
    "std = 0.05 * d\n",
    "intensidade = np.abs(np.random.normal(d, std, n_pontos_positivos))                      # Gera n intensidades de ruidos\n",
    "\n",
    "for i in range(n_pontos_positivos):\n",
    "    data_matrix_ruido[inicio_ruido[i]: inicio_ruido[i] + duracao[i] + 1] += intensidade[i] # Acrescenta a intensidade \n",
    "                                                                                           # gerada para cada ruido \n",
    "\n",
    "for i in range(n_pontos_positivos):\n",
    "    pontos_positivos[i,] = data_matrix[inicio_ruido[i] - 30: inicio_ruido[i] + 30]  # Pontos positivos\n",
    "\n",
    "pontos_positivos = pontos_positivos.reshape(2,-1)\n",
    "\n",
    "print pontos_positivos.shape"
   ]
  },
  {
   "cell_type": "code",
   "execution_count": 31,
   "metadata": {
    "collapsed": true,
    "deletable": true,
    "editable": true
   },
   "outputs": [],
   "source": [
    "# Recebe uma matriz de dados e retorna esta mesma matriz com ruidos\n",
    "def data_matrix_ruido (data_matrix):\n",
    "    \n",
    "    n_pontos_positivos = 200  \n",
    "    minutos_ruido = 60\n",
    "    pontos_positivos = np.empty((n_pontos_positivos, minutos_ruido))\n",
    "\n",
    "    d = np.std(data_matrix)                                        # Desvio padrão de todo o data_matrix                          \n",
    "    #print \"d = %f\"%(d)\n",
    "\n",
    "    inicio_ruido = np.random.randint(0, minutos, n_pontos_positivos) # Gera n índices para iniciar o ruido\n",
    "\n",
    "    duracao = np.random.normal(120, 40, n_pontos_positivos).round().astype(np.int)  # Gera n durações de ruidos\n",
    "\n",
    "    std = 0.05 * d\n",
    "    intensidade = np.abs(np.random.normal(d, std, n_pontos_positivos))                      # Gera n intensidades de ruidos\n",
    "\n",
    "    for i in range(n_pontos_positivos):\n",
    "        data_matrix[inicio_ruido[i]: inicio_ruido[i] + duracao[i] + 1] += intensidade[i] # Acrescenta a intensidade \n",
    "                                                                                               # gerada para cada ruido \n",
    "    return data_matrix"
   ]
  },
  {
   "cell_type": "code",
   "execution_count": 32,
   "metadata": {
    "collapsed": false,
    "deletable": true,
    "editable": true
   },
   "outputs": [
    {
     "name": "stdout",
     "output_type": "stream",
     "text": [
      "[43.0 43.293128413857275 43.293128413857275 ..., 36.00000000000001\n",
      " 36.00000000000001 36.00000000000001]\n"
     ]
    }
   ],
   "source": [
    "data_ruido = data_matrix_ruido(data_matrix_suavizado)\n",
    "\n",
    "print data_ruido"
   ]
  },
  {
   "cell_type": "code",
   "execution_count": 33,
   "metadata": {
    "collapsed": false,
    "deletable": true,
    "editable": true
   },
   "outputs": [],
   "source": [
    "def plot_grafico(data_matrix_suavizado, data_matrix_ruido, inicio_ruido, duracao): \n",
    "    \n",
    "    n = inicio_ruido.shape[0]\n",
    "    \n",
    "    for i in range(10):\n",
    "        x_ruido = range(duracao[i], 2 * duracao[i])\n",
    "        y_ruido = data_matrix_ruido[inicio_ruido[i]: inicio_ruido[i] + duracao[i]]\n",
    "        \n",
    "        x_hann = range(duracao[i], 2 * duracao[i] + 1)\n",
    "        y_hann = data_matrix_suavizado[inicio_ruido[i]: inicio_ruido[i] + duracao[i] + 1]\n",
    "            \n",
    "        x_ruido_completo = range(0, 3 * duracao[i])\n",
    "        y_ruido_completo = data_matrix_ruido[inicio_ruido[i] - duracao[i]: inicio_ruido[i] + 2 * duracao[i]]\n",
    "        \n",
    "\n",
    "        #print ('%s minutos antes do evento: %s'%(duracao[i],data_hora[npontos[i] - duracao[i]]))\n",
    "        #print (u'Início do evento: %s'%(data_hora[npontos[i]]))\n",
    "        #print ('Fim do evento: %s'%(data_hora[npontos[i] + duracao[i]]))\n",
    "        #print ('%s minutos após o fim do evento: %s'%(duracao[i],data_hora[npontos[i] + 2 * duracao[i]]))\n",
    "    \n",
    "        #plt.plot(x_ruido, y_ruido, label = 'Ruido (cor mais forte)', color = 'black')\n",
    "        #plt.plot(x_hann, y_hann, linestyle = '--', label = u'Hann (durante o ruido)', color = 'blue')   \n",
    "        plt.plot(x_ruido_completo, y_ruido_completo, color = 'red')\n",
    "   \n",
    "        plt.legend(loc = 'upper right', fontsize = 'xx-large')\n",
    "     \n",
    "        plt.title('Gerador de ruidos', fontsize = 20)\n",
    "        plt.xlabel('Minutos', fontsize = 20)\n",
    "        plt.ylabel(u'Vazão',  fontsize = 20)\n",
    "\n",
    "        fig = plt.gcf()\n",
    "        fig.set_size_inches(18.5, 12.5)\n",
    "\n",
    "        plt.show() "
   ]
  },
  {
   "cell_type": "code",
   "execution_count": 34,
   "metadata": {
    "collapsed": false,
    "deletable": true,
    "editable": true,
    "scrolled": false
   },
   "outputs": [],
   "source": [
    "#plot_grafico(data_matrix_suavizado, data_matrix_ruido, inicio_ruido, duracao)"
   ]
  },
  {
   "cell_type": "code",
   "execution_count": 35,
   "metadata": {
    "collapsed": false,
    "deletable": true,
    "editable": true,
    "scrolled": false
   },
   "outputs": [
    {
     "name": "stdout",
     "output_type": "stream",
     "text": [
      "[[ 27.        ]\n",
      " [ 27.44909879]\n",
      " [ 27.84402963]\n",
      " ..., \n",
      " [ 24.        ]\n",
      " [ 18.        ]\n",
      " [ 18.        ]]\n",
      "[-1 -1 -1 ...,  1  1  1]\n",
      "12000\n",
      "12000\n"
     ]
    }
   ],
   "source": [
    "# Treino\n",
    "\n",
    "X_treino = [pontos_negativos[0,], pontos_positivos[0,]]\n",
    "y = [-1] * pontos_negativos.shape[1] + [1] * pontos_positivos.shape[1]\n",
    "X_teste = [pontos_negativos[1,], pontos_positivos[1,]]\n",
    "\n",
    "X_treino = np.array(X_treino).ravel()\n",
    "y = np.array(y).ravel()\n",
    "X_teste = np.array(X_teste).ravel()\n",
    "\n",
    "X_treino = X_treino.reshape(-1,1)\n",
    "X_teste = X_teste.reshape(-1,1)\n",
    "\n",
    "params = {'C': [0.1, 1, 10], 'gamma': [0.1, 1, 10, 100]}\n",
    "\n",
    "random_search = RandomizedSearchCV(SVC(kernel = 'rbf'), param_distributions = params, cv = StratifiedKFold())\n",
    "\n",
    "random_search.fit(X_treino, y)"
   ]
  },
  {
   "cell_type": "code",
   "execution_count": 37,
   "metadata": {
    "collapsed": false,
    "deletable": true,
    "editable": true,
    "scrolled": false
   },
   "outputs": [
    {
     "name": "stdout",
     "output_type": "stream",
     "text": [
      "[-1 -1 -1 ...,  1  1  1]\n",
      "0.924666666667\n"
     ]
    }
   ],
   "source": [
    "# Teste\n",
    "\n",
    "y_predict = random_search.predict(X_teste)\n",
    "\n",
    "score_treino = random_search.best_score_\n",
    "\n",
    "print y_predict\n",
    "\n",
    "print score_treino"
   ]
  },
  {
   "cell_type": "code",
   "execution_count": null,
   "metadata": {
    "collapsed": false,
    "deletable": true,
    "editable": true
   },
   "outputs": [],
   "source": [
    "plt.figure(num=None, figsize=(18.5, 12.5), dpi=80, facecolor='w', edgecolor='k')\n",
    "plt.plot(X_teste, color = 'b', label = 'Target test')\n",
    "plt.plot(y_predict, color='r', label='Predicted')\n",
    "\n",
    "plt.title('SVM', fontsize = 20)\n",
    "plt.xlabel('Minutos', fontsize = 20)\n",
    "plt.ylabel(u'Vazão',  fontsize = 20)\n",
    "\n",
    "plt.legend(loc = 'upper right', fontsize = 'xx-large')\n",
    "\n",
    "#plt.show()"
   ]
  }
 ],
 "metadata": {
  "kernelspec": {
   "display_name": "Python 2",
   "language": "python",
   "name": "python2"
  },
  "language_info": {
   "codemirror_mode": {
    "name": "ipython",
    "version": 2
   },
   "file_extension": ".py",
   "mimetype": "text/x-python",
   "name": "python",
   "nbconvert_exporter": "python",
   "pygments_lexer": "ipython2",
   "version": "2.7.12"
  }
 },
 "nbformat": 4,
 "nbformat_minor": 2
}
