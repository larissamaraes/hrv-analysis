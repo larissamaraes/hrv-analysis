{
 "cells": [
  {
   "cell_type": "code",
   "execution_count": 155,
   "metadata": {
    "collapsed": false,
    "deletable": true,
    "editable": true
   },
   "outputs": [
    {
     "data": {
      "text/plain": [
       "'{\"Prediction\": \"Yes\", \"Score\": \"Null\"}'"
      ]
     },
     "execution_count": 155,
     "metadata": {},
     "output_type": "execute_result"
    }
   ],
   "source": [
    "import numpy as np\n",
    "from flask import Flask, jsonify, json\n",
    "import requests\n",
    "\n",
    "npontos = 200\n",
    "limite_superior = 100\n",
    "\n",
    "data = np.random.uniform(0, limite_superior, npontos)\n",
    "\n",
    "data = data.tolist()\n",
    "\n",
    "data = json.dumps(data)\n",
    "\n",
    "response = requests.post(\"http://127.0.0.1:5000/classificador_ruidos\", json = data)\n",
    "\n",
    "#response.json()\n",
    "\n",
    "response.content"
   ]
  },
  {
   "cell_type": "code",
   "execution_count": 158,
   "metadata": {
    "collapsed": false,
    "deletable": true,
    "editable": true
   },
   "outputs": [
    {
     "data": {
      "text/plain": [
       "'{\"Prediction\": \"Yes\", \"Score\": 0.67483333333333329}'"
      ]
     },
     "execution_count": 158,
     "metadata": {},
     "output_type": "execute_result"
    }
   ],
   "source": [
    "# gera ruidos a partir de data, obtém os pontos negativos e positivos, obtém x_teste e y_teste, \n",
    "# obtém y_predict e o score, já que o y_teste é conhecido\n",
    "\n",
    "response = requests.post(\"http://127.0.0.1:5000/classificador_ruidos/teste\", json = data)\n",
    "\n",
    "#response.json() \n",
    "\n",
    "response.content"
   ]
  }
 ],
 "metadata": {
  "kernelspec": {
   "display_name": "Python 2",
   "language": "python",
   "name": "python2"
  },
  "language_info": {
   "codemirror_mode": {
    "name": "ipython",
    "version": 2
   },
   "file_extension": ".py",
   "mimetype": "text/x-python",
   "name": "python",
   "nbconvert_exporter": "python",
   "pygments_lexer": "ipython2",
   "version": "2.7.6"
  }
 },
 "nbformat": 4,
 "nbformat_minor": 2
}
