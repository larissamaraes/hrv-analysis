{
 "cells": [
  {
   "cell_type": "code",
   "execution_count": 1,
   "metadata": {
    "collapsed": true,
    "deletable": true,
    "editable": true
   },
   "outputs": [],
   "source": [
    "from datetime import datetime\n",
    "from flask import Flask, request\n",
    "from flask_json import FlaskJSON, JsonError, json_response, as_json"
   ]
  },
  {
   "cell_type": "code",
   "execution_count": null,
   "metadata": {
    "collapsed": false,
    "deletable": true,
    "editable": true,
    "scrolled": true
   },
   "outputs": [
    {
     "name": "stderr",
     "output_type": "stream",
     "text": [
      " * Running on http://127.0.0.1:5000/ (Press CTRL+C to quit)\n",
      "127.0.0.1 - - [08/Jun/2017 22:39:54] \"GET / HTTP/1.1\" 200 -\n",
      "127.0.0.1 - - [08/Jun/2017 22:39:59] \"GET / HTTP/1.1\" 200 -\n",
      "127.0.0.1 - - [08/Jun/2017 22:40:18] \"GET / HTTP/1.1\" 200 -\n"
     ]
    }
   ],
   "source": [
    "app = Flask(__name__)\n",
    "\n",
    "@app.route(\"/\")\n",
    "def hello():\n",
    "    return u'Olá mundo!'\n",
    "\n",
    "if __name__ == \"__main__\":\n",
    "    app.run()\n"
   ]
  },
  {
   "cell_type": "code",
   "execution_count": null,
   "metadata": {
    "collapsed": false,
    "deletable": true,
    "editable": true
   },
   "outputs": [],
   "source": [
    "app = Flask(__name__)\n",
    "json = FlaskJSON(app)\n",
    "\n",
    "json.init_app(app)\n",
    "\n",
    "@app.route('/get_time')\n",
    "def get_time():\n",
    "    now = datetime.utcnow()\n",
    "    return json_response(time=now)\n",
    "\n",
    "\n",
    "@app.route('/increment_value', methods=['POST'])\n",
    "def increment_value():\n",
    "    # We use 'force' to skip mimetype checking to have shorter curl command.\n",
    "    data = request.get_json(force=True)\n",
    "    try:\n",
    "        value = int(data['value'])\n",
    "    except (KeyError, TypeError, ValueError):\n",
    "        raise JsonError(description='Invalid value.')\n",
    "    return json_response(value=value + 1)\n",
    "\n",
    "\n",
    "@app.route('/get_value')\n",
    "@as_json\n",
    "def get_value():\n",
    "    return dict(value=12)\n",
    "\n",
    "\n",
    "if __name__ == '__main__':\n",
    "    app.run()"
   ]
  },
  {
   "cell_type": "code",
   "execution_count": 3,
   "metadata": {
    "collapsed": true,
    "deletable": true,
    "editable": true
   },
   "outputs": [],
   "source": [
    "\n",
    "\n"
   ]
  }
 ],
 "metadata": {
  "kernelspec": {
   "display_name": "Python 2",
   "language": "python",
   "name": "python2"
  },
  "language_info": {
   "codemirror_mode": {
    "name": "ipython",
    "version": 2
   },
   "file_extension": ".py",
   "mimetype": "text/x-python",
   "name": "python",
   "nbconvert_exporter": "python",
   "pygments_lexer": "ipython2",
   "version": "2.7.12"
  }
 },
 "nbformat": 4,
 "nbformat_minor": 2
}
