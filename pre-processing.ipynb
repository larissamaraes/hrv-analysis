{
 "cells": [
  {
   "cell_type": "code",
   "execution_count": 23,
   "metadata": {
    "collapsed": true
   },
   "outputs": [],
   "source": [
    "import numpy as np\n",
    "import pandas as pd\n",
    "import math as m\n",
    "import csv\n",
    "from numpy import set_printoptions \n",
    "from random import randint\n",
    "\n",
    "from sklearn.model_selection import train_test_split \n",
    "from sklearn.svm import SVC"
   ]
  },
  {
   "cell_type": "code",
   "execution_count": 24,
   "metadata": {
    "collapsed": true
   },
   "outputs": [],
   "source": [
    "seed = 42"
   ]
  },
  {
   "cell_type": "code",
   "execution_count": 31,
   "metadata": {},
   "outputs": [
    {
     "name": "stdout",
     "output_type": "stream",
     "text": [
      "[[ 214  814  811  789  792  789  817  653  994  844  811  789  772  839\n",
      "   856  822  828  822  794  797  792  822  869  822  786  792  775  786\n",
      "   811  817  828  844  806  775  800  789  858  842  825  803  836  792\n",
      "   789  819  844  881  822  778  803  811    0]\n",
      " [ 231  869  875  892  933  956  900  869  869  861  914  917  914  897\n",
      "   906  886  869  911  914  903  847  839  869  889  897  886  858  853\n",
      "   847  819  853  903  911  858  839  814  792  806  806  800  786  806\n",
      "   756  761  786  806  842  853  786  756    0]\n",
      " [ 378  761  797  811  878  858  825  806  800  811  808  836  886  850\n",
      "   808  806  797  828  839  839  878  822  792  794  808  853  856  839\n",
      "   872  806  778  806  825  861  847  828  839  853  728  822  856  867\n",
      "   839  817  825  800  794  836  861  861    1]\n",
      " [ 736  861  836  844  839  869  922  881  833  833  842  833  853  911\n",
      "   908  917  878  903  867  900  936  889  847  842  833  878  889  894\n",
      "   892  836  839  833  878  883  869  869  825  786  817  828  842  842\n",
      "   831  828  800  786  811  856  869  836    1]\n",
      " [ 203  675  831  794  797  803  756  869  831  806  808  806  806  761\n",
      "   850  847  825  808  794  800  844  750  856  814  828  806  797  839\n",
      "   731  867  828  817  806  833  758  781  836  850  822  831  808  875\n",
      "   686  800  861  833  817  844  767  778    0]\n",
      " [ 547  728  692  714  714  714  728  761  756  731  703  692  697  722\n",
      "   756  742  747  733  739  703  703  428 1006  756  758  744  722  694\n",
      "   722  725  431 1022  761  736  733  714  694  681  722  764  736  731\n",
      "   722  711  700  708  711  728  489 1006    1]\n",
      " [ 975 1036 1006 1006 1058 1022 1039  964  878  936 1000  972  919  931\n",
      "   856  842  847  864  828  792  800  808  775  783  794  811  786  742\n",
      "   683  683  700  747  769  744  839  997  956  964  978 1006  978  883\n",
      "   828  836  858  936  942  911  917  942    1]\n",
      " [ 264  492  825  875  894  869  836  828  822  853  867  872  872  861\n",
      "   822  814  833  861  889  872  847  828  847  836  847  875  869  856\n",
      "   825  817  825  889  886  858  856  822  833  836  858  872  894  850\n",
      "   814  822  822  878  892  875  847  842    1]\n",
      " [ 244  983  964 1017  939  911  933 1000 1033  969  986  919  503 1381\n",
      "  1025 1053 1014 1111 1011 1131 1114 1111 1025 1044 1033 1089 1083 1047\n",
      "  1006 1031  500 1603 1017  986  931  964 1056 1133 1192 1094 1056 1042\n",
      "  1106 1106 1069 1069 1036 1036 1106 1097    1]\n",
      " [ 308  644  633  656  669  664  656  672  636  625  600  628  617  647\n",
      "   656  650  631  633  619  600  583  606  611  639  650  633  631  589\n",
      "   619  594  617  600  619  631  667  675  625  611  625  650  628  628\n",
      "   658  672  683  675  636  625  639  653    1]]\n"
     ]
    }
   ],
   "source": [
    "filenumber = 100\n",
    "class_test = 0\n",
    "\n",
    "all_archives = []\n",
    "\n",
    "for i in range(10):\n",
    "\n",
    "    filename = str(filenumber)+'.txt'\n",
    "\n",
    "    archive = open(filename, 'r')\n",
    "    text = archive.readlines()\n",
    "    frequencies = []\n",
    "    j = 0\n",
    "    for line in text:\n",
    "        if j < 50:\n",
    "            frequencies.append(int(line))\n",
    "            j = j + 1\n",
    "        else:\n",
    "            break\n",
    "        \n",
    "    #aux_list = [frequencies, class_test]\n",
    "    frequencies.append(class_test)\n",
    "    all_archives.append(frequencies)\n",
    "    \n",
    "    archive.close()\n",
    "    \n",
    "    class_test = randint(0,1)\n",
    "    filenumber = filenumber + 1\n",
    "    \n",
    "all_archives = np.asarray(all_archives)\n",
    "print all_archives"
   ]
  },
  {
   "cell_type": "code",
   "execution_count": 32,
   "metadata": {},
   "outputs": [],
   "source": [
    "X = all_archives[:,0:1] \n",
    "Y = all_archives[:,1]\n",
    "\n",
    "X_train, X_test, Y_train, Y_test = train_test_split(X, Y, test_size=0.7, random_state=seed)"
   ]
  },
  {
   "cell_type": "code",
   "execution_count": 33,
   "metadata": {},
   "outputs": [
    {
     "name": "stdout",
     "output_type": "stream",
     "text": [
      "Accuracy: 0.000%\n"
     ]
    }
   ],
   "source": [
    "model = SVC()\n",
    "model.fit(X_train, Y_train) \n",
    "result = model.score(X_test, Y_test)\n",
    "print(\"Accuracy: %.3f%%\") % (result*100.0)"
   ]
  },
  {
   "cell_type": "code",
   "execution_count": null,
   "metadata": {
    "collapsed": true
   },
   "outputs": [],
   "source": []
  }
 ],
 "metadata": {
  "kernelspec": {
   "display_name": "Python 2",
   "language": "python",
   "name": "python2"
  },
  "language_info": {
   "codemirror_mode": {
    "name": "ipython",
    "version": 2
   },
   "file_extension": ".py",
   "mimetype": "text/x-python",
   "name": "python",
   "nbconvert_exporter": "python",
   "pygments_lexer": "ipython2",
   "version": "2.7.13"
  }
 },
 "nbformat": 4,
 "nbformat_minor": 2
}
